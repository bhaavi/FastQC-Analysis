{
  "nbformat": 4,
  "nbformat_minor": 0,
  "metadata": {
    "colab": {
      "provenance": [],
      "authorship_tag": "ABX9TyN28UEugu97Mv9d5O/54g/n",
      "include_colab_link": true
    },
    "kernelspec": {
      "name": "python3",
      "display_name": "Python 3"
    },
    "language_info": {
      "name": "python"
    }
  },
  "cells": [
    {
      "cell_type": "markdown",
      "metadata": {
        "id": "view-in-github",
        "colab_type": "text"
      },
      "source": [
        "<a href=\"https://colab.research.google.com/github/bhaavi/FastQC-Analysis/blob/main/BWA_and_IGV_analysis.ipynb\" target=\"_parent\"><img src=\"https://colab.research.google.com/assets/colab-badge.svg\" alt=\"Open In Colab\"/></a>"
      ]
    },
    {
      "cell_type": "code",
      "source": [
        "# Update and install dependencies\n",
        "!apt-get update\n",
        "!apt-get install -y zlib1g-dev libbz2-dev liblzma-dev\n",
        "\n",
        "# Download and install BWA\n",
        "!apt-get install -y bwa"
      ],
      "metadata": {
        "colab": {
          "base_uri": "https://localhost:8080/"
        },
        "id": "3CWbb0q-ctU9",
        "outputId": "dd555d21-fb92-41a3-f85c-af4f73f54095"
      },
      "execution_count": null,
      "outputs": [
        {
          "output_type": "stream",
          "name": "stdout",
          "text": [
            "\r0% [Working]\r            \rGet:1 https://cloud.r-project.org/bin/linux/ubuntu jammy-cran40/ InRelease [3,632 B]\n",
            "Get:2 https://developer.download.nvidia.com/compute/cuda/repos/ubuntu2204/x86_64  InRelease [1,581 B]\n",
            "Get:3 http://security.ubuntu.com/ubuntu jammy-security InRelease [129 kB]\n",
            "Hit:4 http://archive.ubuntu.com/ubuntu jammy InRelease\n",
            "Get:5 https://r2u.stat.illinois.edu/ubuntu jammy InRelease [6,555 B]\n",
            "Get:6 http://archive.ubuntu.com/ubuntu jammy-updates InRelease [128 kB]\n",
            "Get:7 https://developer.download.nvidia.com/compute/cuda/repos/ubuntu2204/x86_64  Packages [1,851 kB]\n",
            "Hit:8 https://ppa.launchpadcontent.net/deadsnakes/ppa/ubuntu jammy InRelease\n",
            "Hit:9 https://ppa.launchpadcontent.net/graphics-drivers/ppa/ubuntu jammy InRelease\n",
            "Hit:10 https://ppa.launchpadcontent.net/ubuntugis/ppa/ubuntu jammy InRelease\n",
            "Get:11 http://archive.ubuntu.com/ubuntu jammy-backports InRelease [127 kB]\n",
            "Get:12 https://r2u.stat.illinois.edu/ubuntu jammy/main all Packages [9,138 kB]\n",
            "Get:13 https://r2u.stat.illinois.edu/ubuntu jammy/main amd64 Packages [2,765 kB]\n",
            "Get:14 http://security.ubuntu.com/ubuntu jammy-security/universe amd64 Packages [1,268 kB]\n",
            "Get:15 http://archive.ubuntu.com/ubuntu jammy-updates/main amd64 Packages [3,470 kB]\n",
            "Get:16 http://security.ubuntu.com/ubuntu jammy-security/main amd64 Packages [3,159 kB]\n",
            "Get:17 http://security.ubuntu.com/ubuntu jammy-security/restricted amd64 Packages [4,976 kB]\n",
            "Get:18 http://archive.ubuntu.com/ubuntu jammy-updates/universe amd64 Packages [1,573 kB]\n",
            "Get:19 http://archive.ubuntu.com/ubuntu jammy-updates/restricted amd64 Packages [5,163 kB]\n",
            "Fetched 33.8 MB in 6s (5,639 kB/s)\n",
            "Reading package lists... Done\n",
            "W: Skipping acquire of configured file 'main/source/Sources' as repository 'https://r2u.stat.illinois.edu/ubuntu jammy InRelease' does not seem to provide it (sources.list entry misspelt?)\n",
            "Reading package lists... Done\n",
            "Building dependency tree... Done\n",
            "Reading state information... Done\n",
            "libbz2-dev is already the newest version (1.0.8-5build1).\n",
            "libbz2-dev set to manually installed.\n",
            "liblzma-dev is already the newest version (5.2.5-2ubuntu1).\n",
            "liblzma-dev set to manually installed.\n",
            "zlib1g-dev is already the newest version (1:1.2.11.dfsg-2ubuntu9.2).\n",
            "zlib1g-dev set to manually installed.\n",
            "0 upgraded, 0 newly installed, 0 to remove and 40 not upgraded.\n",
            "Reading package lists... Done\n",
            "Building dependency tree... Done\n",
            "Reading state information... Done\n",
            "Suggested packages:\n",
            "  samtools\n",
            "The following NEW packages will be installed:\n",
            "  bwa\n",
            "0 upgraded, 1 newly installed, 0 to remove and 40 not upgraded.\n",
            "Need to get 195 kB of archives.\n",
            "After this operation, 466 kB of additional disk space will be used.\n",
            "Get:1 http://archive.ubuntu.com/ubuntu jammy/universe amd64 bwa amd64 0.7.17-6 [195 kB]\n",
            "Fetched 195 kB in 0s (795 kB/s)\n",
            "Selecting previously unselected package bwa.\n",
            "(Reading database ... 126284 files and directories currently installed.)\n",
            "Preparing to unpack .../bwa_0.7.17-6_amd64.deb ...\n",
            "Unpacking bwa (0.7.17-6) ...\n",
            "Setting up bwa (0.7.17-6) ...\n",
            "Processing triggers for man-db (2.10.2-1) ...\n"
          ]
        }
      ]
    },
    {
      "cell_type": "code",
      "source": [
        "!bwa"
      ],
      "metadata": {
        "colab": {
          "base_uri": "https://localhost:8080/"
        },
        "id": "3Ho5Qk5ueZ-k",
        "outputId": "93b84056-9a01-4859-ea79-6ad269c67750"
      },
      "execution_count": null,
      "outputs": [
        {
          "output_type": "stream",
          "name": "stdout",
          "text": [
            "\n",
            "Program: bwa (alignment via Burrows-Wheeler transformation)\n",
            "Version: 0.7.17-r1188\n",
            "Contact: Heng Li <lh3@sanger.ac.uk>\n",
            "\n",
            "Usage:   bwa <command> [options]\n",
            "\n",
            "Command: index         index sequences in the FASTA format\n",
            "         mem           BWA-MEM algorithm\n",
            "         fastmap       identify super-maximal exact matches\n",
            "         pemerge       merge overlapping paired ends (EXPERIMENTAL)\n",
            "         aln           gapped/ungapped alignment\n",
            "         samse         generate alignment (single ended)\n",
            "         sampe         generate alignment (paired ended)\n",
            "         bwasw         BWA-SW for long queries\n",
            "\n",
            "         shm           manage indices in shared memory\n",
            "         fa2pac        convert FASTA to PAC format\n",
            "         pac2bwt       generate BWT from PAC\n",
            "         pac2bwtgen    alternative algorithm for generating BWT\n",
            "         bwtupdate     update .bwt to the new format\n",
            "         bwt2sa        generate SA from BWT and Occ\n",
            "\n",
            "Note: To use BWA, you need to first index the genome with `bwa index'.\n",
            "      There are three alignment algorithms in BWA: `mem', `bwasw', and\n",
            "      `aln/samse/sampe'. If you are not sure which to use, try `bwa mem'\n",
            "      first. Please `man ./bwa.1' for the manual.\n",
            "\n"
          ]
        }
      ]
    },
    {
      "cell_type": "code",
      "source": [
        "from google.colab import files\n",
        "\n",
        "# Upload FASTQ file\n",
        "uploaded = files.upload()\n",
        "\n",
        "# Upload reference genome (FASTA)\n",
        "uploaded = files.upload()"
      ],
      "metadata": {
        "colab": {
          "base_uri": "https://localhost:8080/",
          "height": 129
        },
        "id": "utwyvaE5oB9a",
        "outputId": "1fe92eef-2696-4e57-c66f-0242d583d097"
      },
      "execution_count": null,
      "outputs": [
        {
          "output_type": "display_data",
          "data": {
            "text/plain": [
              "<IPython.core.display.HTML object>"
            ],
            "text/html": [
              "\n",
              "     <input type=\"file\" id=\"files-7ad5c1c6-a121-43a0-a04b-653231f6cc84\" name=\"files[]\" multiple disabled\n",
              "        style=\"border:none\" />\n",
              "     <output id=\"result-7ad5c1c6-a121-43a0-a04b-653231f6cc84\">\n",
              "      Upload widget is only available when the cell has been executed in the\n",
              "      current browser session. Please rerun this cell to enable.\n",
              "      </output>\n",
              "      <script>// Copyright 2017 Google LLC\n",
              "//\n",
              "// Licensed under the Apache License, Version 2.0 (the \"License\");\n",
              "// you may not use this file except in compliance with the License.\n",
              "// You may obtain a copy of the License at\n",
              "//\n",
              "//      http://www.apache.org/licenses/LICENSE-2.0\n",
              "//\n",
              "// Unless required by applicable law or agreed to in writing, software\n",
              "// distributed under the License is distributed on an \"AS IS\" BASIS,\n",
              "// WITHOUT WARRANTIES OR CONDITIONS OF ANY KIND, either express or implied.\n",
              "// See the License for the specific language governing permissions and\n",
              "// limitations under the License.\n",
              "\n",
              "/**\n",
              " * @fileoverview Helpers for google.colab Python module.\n",
              " */\n",
              "(function(scope) {\n",
              "function span(text, styleAttributes = {}) {\n",
              "  const element = document.createElement('span');\n",
              "  element.textContent = text;\n",
              "  for (const key of Object.keys(styleAttributes)) {\n",
              "    element.style[key] = styleAttributes[key];\n",
              "  }\n",
              "  return element;\n",
              "}\n",
              "\n",
              "// Max number of bytes which will be uploaded at a time.\n",
              "const MAX_PAYLOAD_SIZE = 100 * 1024;\n",
              "\n",
              "function _uploadFiles(inputId, outputId) {\n",
              "  const steps = uploadFilesStep(inputId, outputId);\n",
              "  const outputElement = document.getElementById(outputId);\n",
              "  // Cache steps on the outputElement to make it available for the next call\n",
              "  // to uploadFilesContinue from Python.\n",
              "  outputElement.steps = steps;\n",
              "\n",
              "  return _uploadFilesContinue(outputId);\n",
              "}\n",
              "\n",
              "// This is roughly an async generator (not supported in the browser yet),\n",
              "// where there are multiple asynchronous steps and the Python side is going\n",
              "// to poll for completion of each step.\n",
              "// This uses a Promise to block the python side on completion of each step,\n",
              "// then passes the result of the previous step as the input to the next step.\n",
              "function _uploadFilesContinue(outputId) {\n",
              "  const outputElement = document.getElementById(outputId);\n",
              "  const steps = outputElement.steps;\n",
              "\n",
              "  const next = steps.next(outputElement.lastPromiseValue);\n",
              "  return Promise.resolve(next.value.promise).then((value) => {\n",
              "    // Cache the last promise value to make it available to the next\n",
              "    // step of the generator.\n",
              "    outputElement.lastPromiseValue = value;\n",
              "    return next.value.response;\n",
              "  });\n",
              "}\n",
              "\n",
              "/**\n",
              " * Generator function which is called between each async step of the upload\n",
              " * process.\n",
              " * @param {string} inputId Element ID of the input file picker element.\n",
              " * @param {string} outputId Element ID of the output display.\n",
              " * @return {!Iterable<!Object>} Iterable of next steps.\n",
              " */\n",
              "function* uploadFilesStep(inputId, outputId) {\n",
              "  const inputElement = document.getElementById(inputId);\n",
              "  inputElement.disabled = false;\n",
              "\n",
              "  const outputElement = document.getElementById(outputId);\n",
              "  outputElement.innerHTML = '';\n",
              "\n",
              "  const pickedPromise = new Promise((resolve) => {\n",
              "    inputElement.addEventListener('change', (e) => {\n",
              "      resolve(e.target.files);\n",
              "    });\n",
              "  });\n",
              "\n",
              "  const cancel = document.createElement('button');\n",
              "  inputElement.parentElement.appendChild(cancel);\n",
              "  cancel.textContent = 'Cancel upload';\n",
              "  const cancelPromise = new Promise((resolve) => {\n",
              "    cancel.onclick = () => {\n",
              "      resolve(null);\n",
              "    };\n",
              "  });\n",
              "\n",
              "  // Wait for the user to pick the files.\n",
              "  const files = yield {\n",
              "    promise: Promise.race([pickedPromise, cancelPromise]),\n",
              "    response: {\n",
              "      action: 'starting',\n",
              "    }\n",
              "  };\n",
              "\n",
              "  cancel.remove();\n",
              "\n",
              "  // Disable the input element since further picks are not allowed.\n",
              "  inputElement.disabled = true;\n",
              "\n",
              "  if (!files) {\n",
              "    return {\n",
              "      response: {\n",
              "        action: 'complete',\n",
              "      }\n",
              "    };\n",
              "  }\n",
              "\n",
              "  for (const file of files) {\n",
              "    const li = document.createElement('li');\n",
              "    li.append(span(file.name, {fontWeight: 'bold'}));\n",
              "    li.append(span(\n",
              "        `(${file.type || 'n/a'}) - ${file.size} bytes, ` +\n",
              "        `last modified: ${\n",
              "            file.lastModifiedDate ? file.lastModifiedDate.toLocaleDateString() :\n",
              "                                    'n/a'} - `));\n",
              "    const percent = span('0% done');\n",
              "    li.appendChild(percent);\n",
              "\n",
              "    outputElement.appendChild(li);\n",
              "\n",
              "    const fileDataPromise = new Promise((resolve) => {\n",
              "      const reader = new FileReader();\n",
              "      reader.onload = (e) => {\n",
              "        resolve(e.target.result);\n",
              "      };\n",
              "      reader.readAsArrayBuffer(file);\n",
              "    });\n",
              "    // Wait for the data to be ready.\n",
              "    let fileData = yield {\n",
              "      promise: fileDataPromise,\n",
              "      response: {\n",
              "        action: 'continue',\n",
              "      }\n",
              "    };\n",
              "\n",
              "    // Use a chunked sending to avoid message size limits. See b/62115660.\n",
              "    let position = 0;\n",
              "    do {\n",
              "      const length = Math.min(fileData.byteLength - position, MAX_PAYLOAD_SIZE);\n",
              "      const chunk = new Uint8Array(fileData, position, length);\n",
              "      position += length;\n",
              "\n",
              "      const base64 = btoa(String.fromCharCode.apply(null, chunk));\n",
              "      yield {\n",
              "        response: {\n",
              "          action: 'append',\n",
              "          file: file.name,\n",
              "          data: base64,\n",
              "        },\n",
              "      };\n",
              "\n",
              "      let percentDone = fileData.byteLength === 0 ?\n",
              "          100 :\n",
              "          Math.round((position / fileData.byteLength) * 100);\n",
              "      percent.textContent = `${percentDone}% done`;\n",
              "\n",
              "    } while (position < fileData.byteLength);\n",
              "  }\n",
              "\n",
              "  // All done.\n",
              "  yield {\n",
              "    response: {\n",
              "      action: 'complete',\n",
              "    }\n",
              "  };\n",
              "}\n",
              "\n",
              "scope.google = scope.google || {};\n",
              "scope.google.colab = scope.google.colab || {};\n",
              "scope.google.colab._files = {\n",
              "  _uploadFiles,\n",
              "  _uploadFilesContinue,\n",
              "};\n",
              "})(self);\n",
              "</script> "
            ]
          },
          "metadata": {}
        },
        {
          "output_type": "stream",
          "name": "stdout",
          "text": [
            "Saving SRR33976241.fastq.gz to SRR33976241.fastq (1).gz\n"
          ]
        },
        {
          "output_type": "display_data",
          "data": {
            "text/plain": [
              "<IPython.core.display.HTML object>"
            ],
            "text/html": [
              "\n",
              "     <input type=\"file\" id=\"files-8ff2ea77-9a5a-44d8-8b3b-20721a37b231\" name=\"files[]\" multiple disabled\n",
              "        style=\"border:none\" />\n",
              "     <output id=\"result-8ff2ea77-9a5a-44d8-8b3b-20721a37b231\">\n",
              "      Upload widget is only available when the cell has been executed in the\n",
              "      current browser session. Please rerun this cell to enable.\n",
              "      </output>\n",
              "      <script>// Copyright 2017 Google LLC\n",
              "//\n",
              "// Licensed under the Apache License, Version 2.0 (the \"License\");\n",
              "// you may not use this file except in compliance with the License.\n",
              "// You may obtain a copy of the License at\n",
              "//\n",
              "//      http://www.apache.org/licenses/LICENSE-2.0\n",
              "//\n",
              "// Unless required by applicable law or agreed to in writing, software\n",
              "// distributed under the License is distributed on an \"AS IS\" BASIS,\n",
              "// WITHOUT WARRANTIES OR CONDITIONS OF ANY KIND, either express or implied.\n",
              "// See the License for the specific language governing permissions and\n",
              "// limitations under the License.\n",
              "\n",
              "/**\n",
              " * @fileoverview Helpers for google.colab Python module.\n",
              " */\n",
              "(function(scope) {\n",
              "function span(text, styleAttributes = {}) {\n",
              "  const element = document.createElement('span');\n",
              "  element.textContent = text;\n",
              "  for (const key of Object.keys(styleAttributes)) {\n",
              "    element.style[key] = styleAttributes[key];\n",
              "  }\n",
              "  return element;\n",
              "}\n",
              "\n",
              "// Max number of bytes which will be uploaded at a time.\n",
              "const MAX_PAYLOAD_SIZE = 100 * 1024;\n",
              "\n",
              "function _uploadFiles(inputId, outputId) {\n",
              "  const steps = uploadFilesStep(inputId, outputId);\n",
              "  const outputElement = document.getElementById(outputId);\n",
              "  // Cache steps on the outputElement to make it available for the next call\n",
              "  // to uploadFilesContinue from Python.\n",
              "  outputElement.steps = steps;\n",
              "\n",
              "  return _uploadFilesContinue(outputId);\n",
              "}\n",
              "\n",
              "// This is roughly an async generator (not supported in the browser yet),\n",
              "// where there are multiple asynchronous steps and the Python side is going\n",
              "// to poll for completion of each step.\n",
              "// This uses a Promise to block the python side on completion of each step,\n",
              "// then passes the result of the previous step as the input to the next step.\n",
              "function _uploadFilesContinue(outputId) {\n",
              "  const outputElement = document.getElementById(outputId);\n",
              "  const steps = outputElement.steps;\n",
              "\n",
              "  const next = steps.next(outputElement.lastPromiseValue);\n",
              "  return Promise.resolve(next.value.promise).then((value) => {\n",
              "    // Cache the last promise value to make it available to the next\n",
              "    // step of the generator.\n",
              "    outputElement.lastPromiseValue = value;\n",
              "    return next.value.response;\n",
              "  });\n",
              "}\n",
              "\n",
              "/**\n",
              " * Generator function which is called between each async step of the upload\n",
              " * process.\n",
              " * @param {string} inputId Element ID of the input file picker element.\n",
              " * @param {string} outputId Element ID of the output display.\n",
              " * @return {!Iterable<!Object>} Iterable of next steps.\n",
              " */\n",
              "function* uploadFilesStep(inputId, outputId) {\n",
              "  const inputElement = document.getElementById(inputId);\n",
              "  inputElement.disabled = false;\n",
              "\n",
              "  const outputElement = document.getElementById(outputId);\n",
              "  outputElement.innerHTML = '';\n",
              "\n",
              "  const pickedPromise = new Promise((resolve) => {\n",
              "    inputElement.addEventListener('change', (e) => {\n",
              "      resolve(e.target.files);\n",
              "    });\n",
              "  });\n",
              "\n",
              "  const cancel = document.createElement('button');\n",
              "  inputElement.parentElement.appendChild(cancel);\n",
              "  cancel.textContent = 'Cancel upload';\n",
              "  const cancelPromise = new Promise((resolve) => {\n",
              "    cancel.onclick = () => {\n",
              "      resolve(null);\n",
              "    };\n",
              "  });\n",
              "\n",
              "  // Wait for the user to pick the files.\n",
              "  const files = yield {\n",
              "    promise: Promise.race([pickedPromise, cancelPromise]),\n",
              "    response: {\n",
              "      action: 'starting',\n",
              "    }\n",
              "  };\n",
              "\n",
              "  cancel.remove();\n",
              "\n",
              "  // Disable the input element since further picks are not allowed.\n",
              "  inputElement.disabled = true;\n",
              "\n",
              "  if (!files) {\n",
              "    return {\n",
              "      response: {\n",
              "        action: 'complete',\n",
              "      }\n",
              "    };\n",
              "  }\n",
              "\n",
              "  for (const file of files) {\n",
              "    const li = document.createElement('li');\n",
              "    li.append(span(file.name, {fontWeight: 'bold'}));\n",
              "    li.append(span(\n",
              "        `(${file.type || 'n/a'}) - ${file.size} bytes, ` +\n",
              "        `last modified: ${\n",
              "            file.lastModifiedDate ? file.lastModifiedDate.toLocaleDateString() :\n",
              "                                    'n/a'} - `));\n",
              "    const percent = span('0% done');\n",
              "    li.appendChild(percent);\n",
              "\n",
              "    outputElement.appendChild(li);\n",
              "\n",
              "    const fileDataPromise = new Promise((resolve) => {\n",
              "      const reader = new FileReader();\n",
              "      reader.onload = (e) => {\n",
              "        resolve(e.target.result);\n",
              "      };\n",
              "      reader.readAsArrayBuffer(file);\n",
              "    });\n",
              "    // Wait for the data to be ready.\n",
              "    let fileData = yield {\n",
              "      promise: fileDataPromise,\n",
              "      response: {\n",
              "        action: 'continue',\n",
              "      }\n",
              "    };\n",
              "\n",
              "    // Use a chunked sending to avoid message size limits. See b/62115660.\n",
              "    let position = 0;\n",
              "    do {\n",
              "      const length = Math.min(fileData.byteLength - position, MAX_PAYLOAD_SIZE);\n",
              "      const chunk = new Uint8Array(fileData, position, length);\n",
              "      position += length;\n",
              "\n",
              "      const base64 = btoa(String.fromCharCode.apply(null, chunk));\n",
              "      yield {\n",
              "        response: {\n",
              "          action: 'append',\n",
              "          file: file.name,\n",
              "          data: base64,\n",
              "        },\n",
              "      };\n",
              "\n",
              "      let percentDone = fileData.byteLength === 0 ?\n",
              "          100 :\n",
              "          Math.round((position / fileData.byteLength) * 100);\n",
              "      percent.textContent = `${percentDone}% done`;\n",
              "\n",
              "    } while (position < fileData.byteLength);\n",
              "  }\n",
              "\n",
              "  // All done.\n",
              "  yield {\n",
              "    response: {\n",
              "      action: 'complete',\n",
              "    }\n",
              "  };\n",
              "}\n",
              "\n",
              "scope.google = scope.google || {};\n",
              "scope.google.colab = scope.google.colab || {};\n",
              "scope.google.colab._files = {\n",
              "  _uploadFiles,\n",
              "  _uploadFilesContinue,\n",
              "};\n",
              "})(self);\n",
              "</script> "
            ]
          },
          "metadata": {}
        },
        {
          "output_type": "stream",
          "name": "stdout",
          "text": [
            "Saving GCF_009858895.2_ASM985889v3_cds_from_genomic.fna.gz to GCF_009858895.2_ASM985889v3_cds_from_genomic.fna.gz\n"
          ]
        }
      ]
    },
    {
      "cell_type": "code",
      "source": [
        "!bwa index /content/GCF_009858895.2_ASM985889v3_cds_from_genomic.fna.gz"
      ],
      "metadata": {
        "colab": {
          "base_uri": "https://localhost:8080/"
        },
        "id": "IrHeTwlro6D1",
        "outputId": "dd982dbf-5dd6-4846-b801-2a17d23f80ba"
      },
      "execution_count": null,
      "outputs": [
        {
          "output_type": "stream",
          "name": "stdout",
          "text": [
            "[bwa_index] Pack FASTA... 0.00 sec\n",
            "[bwa_index] Construct BWT for the packed sequence...\n",
            "[bwa_index] 0.01 seconds elapse.\n",
            "[bwa_index] Update BWT... 0.00 sec\n",
            "[bwa_index] Pack forward-only FASTA... 0.00 sec\n",
            "[bwa_index] Construct SA from BWT and Occ... 0.01 sec\n",
            "[main] Version: 0.7.17-r1188\n",
            "[main] CMD: bwa index /content/GCF_009858895.2_ASM985889v3_cds_from_genomic.fna.gz\n",
            "[main] Real time: 0.069 sec; CPU: 0.025 sec\n"
          ]
        }
      ]
    },
    {
      "cell_type": "code",
      "source": [
        "!bwa mem /content/GCF_009858895.2_ASM985889v3_cds_from_genomic.fna.gz /content/SRR33976241.fastq.gz > aligned_reads.sam"
      ],
      "metadata": {
        "colab": {
          "base_uri": "https://localhost:8080/"
        },
        "id": "TmEDFd-gpyoO",
        "outputId": "069f8bf2-68a6-4958-ddcf-59ac02fd4d9b"
      },
      "execution_count": null,
      "outputs": [
        {
          "output_type": "stream",
          "name": "stdout",
          "text": [
            "[M::bwa_idx_load_from_disk] read 0 ALT contigs\n",
            "[M::process] read 178476 sequences (10000033 bp)...\n",
            "[M::process] read 178506 sequences (10000022 bp)...\n",
            "[M::mem_process_seqs] Processed 178476 reads in 5.041 CPU sec, 5.091 real sec\n",
            "[M::process] read 178928 sequences (10000182 bp)...\n",
            "[M::mem_process_seqs] Processed 178506 reads in 4.531 CPU sec, 3.996 real sec\n",
            "[M::process] read 178582 sequences (10000028 bp)...\n",
            "[M::mem_process_seqs] Processed 178928 reads in 4.551 CPU sec, 4.023 real sec\n",
            "[M::process] read 178742 sequences (10000087 bp)...\n",
            "[M::mem_process_seqs] Processed 178582 reads in 5.114 CPU sec, 5.187 real sec\n",
            "[M::process] read 43556 sequences (2424718 bp)...\n",
            "[M::mem_process_seqs] Processed 178742 reads in 4.032 CPU sec, 3.768 real sec\n",
            "[M::mem_process_seqs] Processed 43556 reads in 1.198 CPU sec, 1.010 real sec\n",
            "[main] Version: 0.7.17-r1188\n",
            "[main] CMD: bwa mem /content/GCF_009858895.2_ASM985889v3_cds_from_genomic.fna.gz /content/SRR33976241.fastq.gz\n",
            "[main] Real time: 23.787 sec; CPU: 24.832 sec\n"
          ]
        }
      ]
    },
    {
      "cell_type": "code",
      "source": [
        "# Install Samtools\n",
        "!apt-get install -y samtools"
      ],
      "metadata": {
        "colab": {
          "base_uri": "https://localhost:8080/"
        },
        "id": "gpVZ_IPlrd4p",
        "outputId": "fbc42e70-e142-460b-8a66-805604ce3691"
      },
      "execution_count": null,
      "outputs": [
        {
          "output_type": "stream",
          "name": "stdout",
          "text": [
            "Reading package lists... Done\n",
            "Building dependency tree... Done\n",
            "Reading state information... Done\n",
            "The following additional packages will be installed:\n",
            "  libhts3 libhtscodecs2\n",
            "Suggested packages:\n",
            "  cwltool\n",
            "The following NEW packages will be installed:\n",
            "  libhts3 libhtscodecs2 samtools\n",
            "0 upgraded, 3 newly installed, 0 to remove and 40 not upgraded.\n",
            "Need to get 963 kB of archives.\n",
            "After this operation, 2,270 kB of additional disk space will be used.\n",
            "Get:1 http://archive.ubuntu.com/ubuntu jammy/universe amd64 libhtscodecs2 amd64 1.1.1-3 [53.2 kB]\n",
            "Get:2 http://archive.ubuntu.com/ubuntu jammy/universe amd64 libhts3 amd64 1.13+ds-2build1 [390 kB]\n",
            "Get:3 http://archive.ubuntu.com/ubuntu jammy/universe amd64 samtools amd64 1.13-4 [520 kB]\n",
            "Fetched 963 kB in 1s (820 kB/s)\n",
            "Selecting previously unselected package libhtscodecs2:amd64.\n",
            "(Reading database ... 126301 files and directories currently installed.)\n",
            "Preparing to unpack .../libhtscodecs2_1.1.1-3_amd64.deb ...\n",
            "Unpacking libhtscodecs2:amd64 (1.1.1-3) ...\n",
            "Selecting previously unselected package libhts3:amd64.\n",
            "Preparing to unpack .../libhts3_1.13+ds-2build1_amd64.deb ...\n",
            "Unpacking libhts3:amd64 (1.13+ds-2build1) ...\n",
            "Selecting previously unselected package samtools.\n",
            "Preparing to unpack .../samtools_1.13-4_amd64.deb ...\n",
            "Unpacking samtools (1.13-4) ...\n",
            "Setting up libhtscodecs2:amd64 (1.1.1-3) ...\n",
            "Setting up libhts3:amd64 (1.13+ds-2build1) ...\n",
            "Setting up samtools (1.13-4) ...\n",
            "Processing triggers for man-db (2.10.2-1) ...\n",
            "Processing triggers for libc-bin (2.35-0ubuntu3.8) ...\n",
            "/sbin/ldconfig.real: /usr/local/lib/libur_loader.so.0 is not a symbolic link\n",
            "\n",
            "/sbin/ldconfig.real: /usr/local/lib/libtbbbind_2_0.so.3 is not a symbolic link\n",
            "\n",
            "/sbin/ldconfig.real: /usr/local/lib/libtbbmalloc.so.2 is not a symbolic link\n",
            "\n",
            "/sbin/ldconfig.real: /usr/local/lib/libtcm_debug.so.1 is not a symbolic link\n",
            "\n",
            "/sbin/ldconfig.real: /usr/local/lib/libumf.so.0 is not a symbolic link\n",
            "\n",
            "/sbin/ldconfig.real: /usr/local/lib/libhwloc.so.15 is not a symbolic link\n",
            "\n",
            "/sbin/ldconfig.real: /usr/local/lib/libtcm.so.1 is not a symbolic link\n",
            "\n",
            "/sbin/ldconfig.real: /usr/local/lib/libur_adapter_level_zero_v2.so.0 is not a symbolic link\n",
            "\n",
            "/sbin/ldconfig.real: /usr/local/lib/libtbbbind_2_5.so.3 is not a symbolic link\n",
            "\n",
            "/sbin/ldconfig.real: /usr/local/lib/libtbb.so.12 is not a symbolic link\n",
            "\n",
            "/sbin/ldconfig.real: /usr/local/lib/libtbbmalloc_proxy.so.2 is not a symbolic link\n",
            "\n",
            "/sbin/ldconfig.real: /usr/local/lib/libur_adapter_opencl.so.0 is not a symbolic link\n",
            "\n",
            "/sbin/ldconfig.real: /usr/local/lib/libur_adapter_level_zero.so.0 is not a symbolic link\n",
            "\n",
            "/sbin/ldconfig.real: /usr/local/lib/libtbbbind.so.3 is not a symbolic link\n",
            "\n"
          ]
        }
      ]
    },
    {
      "cell_type": "code",
      "source": [
        "# Convert the SAM file to BAM format\n",
        "!samtools view -bS /content/aligned_reads.sam > aligned_reads.bam"
      ],
      "metadata": {
        "id": "5P0r-JdOrl7z"
      },
      "execution_count": null,
      "outputs": []
    },
    {
      "cell_type": "code",
      "source": [
        "# Sort the BAM file\n",
        "!samtools sort /content/aligned_reads.bam > aligned_reads_sorted.bam\n",
        "!samtools sort /content/aligned_reads.sam > aligned_reads_sorted.bai\n",
        "\n"
      ],
      "metadata": {
        "id": "GribysgDsa9v"
      },
      "execution_count": null,
      "outputs": []
    },
    {
      "cell_type": "code",
      "source": [
        "# Index the sorted BAM file to generate .bai for fast access\n",
        "!samtools index aligned_reads_sorted.bam\n",
        "!samtools index aligned_reads_sorted.bai\n"
      ],
      "metadata": {
        "id": "RjGmyaFt0S41"
      },
      "execution_count": null,
      "outputs": []
    },
    {
      "cell_type": "code",
      "source": [
        "from google.colab import files\n",
        "\n",
        "# Download the sorted BAM and its index\n",
        "files.download('aligned_reads_sorted.bam')\n",
        "files.download('aligned_reads_sorted.bam.bai')\n"
      ],
      "metadata": {
        "colab": {
          "base_uri": "https://localhost:8080/",
          "height": 17
        },
        "id": "d-YPj7Yo1dtk",
        "outputId": "8373c042-3a1b-422e-a3c7-25e2c15ebeea"
      },
      "execution_count": null,
      "outputs": [
        {
          "output_type": "display_data",
          "data": {
            "text/plain": [
              "<IPython.core.display.Javascript object>"
            ],
            "application/javascript": [
              "\n",
              "    async function download(id, filename, size) {\n",
              "      if (!google.colab.kernel.accessAllowed) {\n",
              "        return;\n",
              "      }\n",
              "      const div = document.createElement('div');\n",
              "      const label = document.createElement('label');\n",
              "      label.textContent = `Downloading \"${filename}\": `;\n",
              "      div.appendChild(label);\n",
              "      const progress = document.createElement('progress');\n",
              "      progress.max = size;\n",
              "      div.appendChild(progress);\n",
              "      document.body.appendChild(div);\n",
              "\n",
              "      const buffers = [];\n",
              "      let downloaded = 0;\n",
              "\n",
              "      const channel = await google.colab.kernel.comms.open(id);\n",
              "      // Send a message to notify the kernel that we're ready.\n",
              "      channel.send({})\n",
              "\n",
              "      for await (const message of channel.messages) {\n",
              "        // Send a message to notify the kernel that we're ready.\n",
              "        channel.send({})\n",
              "        if (message.buffers) {\n",
              "          for (const buffer of message.buffers) {\n",
              "            buffers.push(buffer);\n",
              "            downloaded += buffer.byteLength;\n",
              "            progress.value = downloaded;\n",
              "          }\n",
              "        }\n",
              "      }\n",
              "      const blob = new Blob(buffers, {type: 'application/binary'});\n",
              "      const a = document.createElement('a');\n",
              "      a.href = window.URL.createObjectURL(blob);\n",
              "      a.download = filename;\n",
              "      div.appendChild(a);\n",
              "      a.click();\n",
              "      div.remove();\n",
              "    }\n",
              "  "
            ]
          },
          "metadata": {}
        },
        {
          "output_type": "display_data",
          "data": {
            "text/plain": [
              "<IPython.core.display.Javascript object>"
            ],
            "application/javascript": [
              "download(\"download_4951b4c5-e83d-4945-80a5-c09abeb888f1\", \"aligned_reads_sorted.bam\", 19508037)"
            ]
          },
          "metadata": {}
        },
        {
          "output_type": "display_data",
          "data": {
            "text/plain": [
              "<IPython.core.display.Javascript object>"
            ],
            "application/javascript": [
              "\n",
              "    async function download(id, filename, size) {\n",
              "      if (!google.colab.kernel.accessAllowed) {\n",
              "        return;\n",
              "      }\n",
              "      const div = document.createElement('div');\n",
              "      const label = document.createElement('label');\n",
              "      label.textContent = `Downloading \"${filename}\": `;\n",
              "      div.appendChild(label);\n",
              "      const progress = document.createElement('progress');\n",
              "      progress.max = size;\n",
              "      div.appendChild(progress);\n",
              "      document.body.appendChild(div);\n",
              "\n",
              "      const buffers = [];\n",
              "      let downloaded = 0;\n",
              "\n",
              "      const channel = await google.colab.kernel.comms.open(id);\n",
              "      // Send a message to notify the kernel that we're ready.\n",
              "      channel.send({})\n",
              "\n",
              "      for await (const message of channel.messages) {\n",
              "        // Send a message to notify the kernel that we're ready.\n",
              "        channel.send({})\n",
              "        if (message.buffers) {\n",
              "          for (const buffer of message.buffers) {\n",
              "            buffers.push(buffer);\n",
              "            downloaded += buffer.byteLength;\n",
              "            progress.value = downloaded;\n",
              "          }\n",
              "        }\n",
              "      }\n",
              "      const blob = new Blob(buffers, {type: 'application/binary'});\n",
              "      const a = document.createElement('a');\n",
              "      a.href = window.URL.createObjectURL(blob);\n",
              "      a.download = filename;\n",
              "      div.appendChild(a);\n",
              "      a.click();\n",
              "      div.remove();\n",
              "    }\n",
              "  "
            ]
          },
          "metadata": {}
        },
        {
          "output_type": "display_data",
          "data": {
            "text/plain": [
              "<IPython.core.display.Javascript object>"
            ],
            "application/javascript": [
              "download(\"download_eddaf45c-e37c-4517-b22d-2af26d6e1199\", \"aligned_reads_sorted.bam.bai\", 1336)"
            ]
          },
          "metadata": {}
        }
      ]
    },
    {
      "cell_type": "code",
      "source": [
        "!samtools sort aligned_reads.bam -o aligned_reads.bam"
      ],
      "metadata": {
        "id": "MBMtYAT_4oE3"
      },
      "execution_count": null,
      "outputs": []
    },
    {
      "cell_type": "code",
      "source": [
        "!samtools depth aligned_reads.bam > coverage.txt\n",
        "!head coverage.txt"
      ],
      "metadata": {
        "colab": {
          "base_uri": "https://localhost:8080/"
        },
        "id": "9QM0KHMS4sJF",
        "outputId": "af6ff902-8e52-4628-b0f8-f1eda4e7d94c"
      },
      "execution_count": null,
      "outputs": [
        {
          "output_type": "stream",
          "name": "stdout",
          "text": [
            "lcl|NC_045512.2_cds_YP_009724389.1_1\t1\t13\n",
            "lcl|NC_045512.2_cds_YP_009724389.1_1\t2\t13\n",
            "lcl|NC_045512.2_cds_YP_009724389.1_1\t3\t14\n",
            "lcl|NC_045512.2_cds_YP_009724389.1_1\t4\t14\n",
            "lcl|NC_045512.2_cds_YP_009724389.1_1\t5\t15\n",
            "lcl|NC_045512.2_cds_YP_009724389.1_1\t6\t16\n",
            "lcl|NC_045512.2_cds_YP_009724389.1_1\t7\t17\n",
            "lcl|NC_045512.2_cds_YP_009724389.1_1\t8\t17\n",
            "lcl|NC_045512.2_cds_YP_009724389.1_1\t9\t17\n",
            "lcl|NC_045512.2_cds_YP_009724389.1_1\t10\t19\n"
          ]
        }
      ]
    },
    {
      "cell_type": "code",
      "source": [
        "!head aligned_reads_sorted.bam.bai"
      ],
      "metadata": {
        "colab": {
          "base_uri": "https://localhost:8080/"
        },
        "id": "Z1a02_I-4wni",
        "outputId": "8fa19377-b926-48c3-bcc2-b8f7b1c85cf6"
      },
      "execution_count": null,
      "outputs": [
        {
          "output_type": "stream",
          "name": "stdout",
          "text": [
            "BAI\u0001\f\u0000\u0000\u0000\u0004\u0000\u0000\u0000I\u0012\u0000\u0000\u0006\u0000\u0000\u0000\u0000\u0000�\u0001\u0000\u0000\u0000\u0000����b\u0000\u0000\u0000\u0000\u0000S�b\u0000\u0000\u0000a���c\u0000\u0000\u0000�\u0001b\u0000d\u0000\u0000\u0000P��=d\u0000\u0000\u0000�\u0002 ^d\u0000\u0000\u0000.� ^d\u0000\u0000\u0000a\u0002�yd\u0000\u0000\u0000���yd\u0000\u0000\u0000\u0000\u0000_�d\u0000\u0000\u0000�i_�d\u0000\u0000\u0000I\u0002\u0000\u0000\u000f\u0000\u0000\u0000F\r\"cb\u0000\u0000\u0000Ē\"cb\u0000\u0000\u0000\u00100i�b\u0000\u0000\u0000B1i�b\u0000\u0000\u0000�\u0007)�b\u0000\u0000\u0000��)�b\u0000\u0000\u0000�%��b\u0000\u0000\u0000��b\u0000\u0000\u0000�6��b\u0000\u0000\u0000��S�b\u0000\u0000\u0000q\u0004$\u0017c\u0000\u0000\u0000\u0001�$\u0017c\u0000\u0000\u0000@\b�6c\u0000\u0000\u0000���6c\u0000\u0000\u0000�\u0000ePc\u0000\u0000\u0000C�ePc\u0000\u0000\u0000\u0011\u0007\u0015ic\u0000\u0000\u0000��\u0015ic\u0000\u0000\u0000�\u0001��c\u0000\u0000\u0000����c\u0000\u0000\u0000�\u0000�c\u0000\u0000\u0000\u000e��c\u0000\u0000\u0000�\u0000��c\u0000\u0000\u0000x���c\u0000\u0000\u0000�\u0000��c\u0000\u0000\u0000k�b\u0000d\u0000\u0000\u0000�\u0000m\u001dd\u0000\u0000\u0000��m\u001dd\u0000\u0000\u0000\u0000\u0000�=d\u0000\u0000\u0000�\n",
            "\u000bOe\u0000\u0000\u0000J\u0012\u0000\u0000\u0001\u0000\u0000\u0000�\n",
            "\u000bOe\u0000\u0000\u00005��0z\u0000\u0000\u0000J�\u0000\u0000\u0002\u0000\u0000\u0000\u0000\u0000�\u0001\u0000\u0000\u0000\u00005��0z\u0000\u0000\u0000�\u000e\u0005\u0000\u0000\u0000\u0000\u0000\u0000\u0000\u0000\u0000\u0000\u0000\u0000\u0000\u0002\u0000\u0000\u0000\u0000\u0000�\u0001\u0000\u0000\u0000\u0000F\r\"cb\u0000\u0000\u0000\u0002\u0000\u0000\u0000I\u0012\u0000\u0000\u0001\u0000\u0000\u00005��0z\u0000\u0000\u0000��\u000b��\u0000\u0000\u0000J�\u0000\u0000\u0002\u0000\u0000\u00005��0z\u0000\u0000\u0000��\u000b��\u0000\u0000\u0000�4\u0002\u0000\u0000\u0000\u0000\u0000\u0000\u0000\u0000\u0000\u0000\u0000\u0000\u0000\u0001\u0000\u0000\u00005��0z\u0000\u0000\u0000\u0002\u0000\u0000\u0000I\u0012\u0000\u0000\u0001\u0000\u0000\u0000��\u000b��\u0000\u0000\u0000\u0001y[��\u0000\u0000\u0000J�\u0000\u0000\u0002\u0000\u0000\u0000��\u000b��\u0000\u0000\u0000\u0001y[��\u0000\u0000\u0000A\u0018\u0001\u0000\u0000\u0000\u0000\u0000\u0000\u0000\u0000\u0000\u0000\u0000\u0000\u0000\u0001\u0000\u0000\u0000��\u000b��\u0000\u0000\u0000\u0002\u0000\u0000\u0000I\u0012\u0000\u0000\u0001\u0000\u0000\u0000\u0001y[��\u0000\u0000\u0000\u0006����\u0000\u0000\u0000J�\u0000\u0000\u0002\u0000\u0000\u0000\u0001y[��\u0000\u0000\u0000\u0006����\u0000\u0000\u0000�F\u0000\u0000\u0000\u0000\u0000\u0000\u0000\u0000\u0000\u0000\u0000\u0000\u0000\u0000\u0001\u0000\u0000\u0000\u0001y[��\u0000\u0000\u0000\u0002\u0000\u0000\u0000I\u0012\u0000\u0000\u0001\u0000\u0000\u0000\u0006����\u0000\u0000\u0000��n��\u0000\u0000\u0000J�\u0000\u0000\u0002\u0000\u0000\u0000\u0006����\u0000\u0000\u0000��n��\u0000\u0000\u0000�\u000b\u0000\u0000\u0000\u0000\u0000\u0000\u0000\u0000\u0000\u0000\u0000\u0000\u0000\u0000\u0001\u0000\u0000\u0000\u0006����\u0000\u0000\u0000\u0002\u0000\u0000\u0000I\u0012\u0000\u0000\u0001\u0000\u0000\u0000��n��\u0000\u0000\u0000�(K>�\u0000\u0000\u0000J�\u0000\u0000\u0002\u0000\u0000\u0000��n��\u0000\u0000\u0000�(K>�\u0000\u0000\u0000\u0003X\u0000\u0000\u0000\u0000\u0000\u0000\u0000\u0000\u0000\u0000\u0000\u0000\u0000\u0000\u0001\u0000\u0000\u0000��n��\u0000\u0000\u0000\u0002\u0000\u0000\u0000I\u0012\u0000\u0000\u0001\u0000\u0000\u0000�(K>�\u0000\u0000\u0000��(��\u0000\u0000\u0000J�\u0000\u0000\u0002\u0000\u0000\u0000�(K>�\u0000\u0000\u0000��(��\u0000\u0000\u0000�\u0012\u0000\u0000\u0000\u0000\u0000\u0000\u0000\u0000\u0000\u0000\u0000\u0000\u0000\u0000\u0001\u0000\u0000\u0000�(K>�\u0000\u0000\u0000\u0002\u0000\u0000\u0000I\u0012\u0000\u0000\u0001\u0000\u0000\u0000��(��\u0000\u0000\u0000:����\u0000\u0000\u0000J�\u0000\u0000\u0002\u0000\u0000\u0000��(��\u0000\u0000\u0000:����\u0000\u0000\u0000�\u0015\u0000\u0000\u0000\u0000\u0000\u0000\u0000\u0000\u0000\u0000\u0000\u0000\u0000\u0000\u0001\u0000\u0000\u0000��(��\u0000\u0000\u0000\u0002\u0000\u0000\u0000I\u0012\u0000\u0000\u0001\u0000\u0000\u0000:����\u0000\u0000\u0000�\t��\u0000\u0000\u0000J�\u0000\u0000\u0002\u0000\u0000\u0000:����\u0000\u0000\u0000�\t��\u0000\u0000\u0000�\r\u0000\u0000\u0000\u0000\u0000\u0000\u0000\u0000\u0000\u0000\u0000\u0000\u0000\u0000\u0001\u0000\u0000\u0000:����\u0000\u0000\u0000\u0002\u0000\u0000\u0000I\u0012\u0000\u0000\u0001\u0000\u0000\u0000�\t��\u0000\u0000\u0000\u0003\u0017e\u001a�\u0000\u0000\u0000J�\u0000\u0000\u0002\u0000\u0000\u0000�\t��\u0000\u0000\u0000\u0003\u0017e\u001a�\u0000\u0000\u0000�@\u0000\u0000\u0000\u0000\u0000\u0000\u0000\u0000\u0000\u0000\u0000\u0000\u0000\u0000\u0001\u0000\u0000\u0000�\t��\u0000\u0000\u0000\u0002\u0000\u0000\u0000I\u0012\u0000\u0000\u0001\u0000\u0000\u0000\u0003\u0017e\u001a�\u0000\u0000\u0000-�\u000f\u0001\u0001\u0000\u0000J�\u0000\u0000\u0002\u0000\u0000\u0000\u0003\u0017e\u001a�\u0000\u0000\u0000-�\u000f\u0001\u0001\u0000\u00006>\u0001\u0000\u0000\u0000\u0000\u0000\u0000\u0000\u0000\u0000\u0000\u0000\u0000\u0000\u0001\u0000\u0000\u0000\u0003\u0017e\u001a�\u0000\u0000\u0000\u0002\u0000\u0000\u0000I\u0012\u0000\u0000\u0001\u0000\u0000\u0000-�\u000f\u0001\u0001\u0000\u0000P\r��\u0003\u0001\u0000\u0000J�\u0000\u0000\u0002\u0000\u0000\u0000-�\u000f\u0001\u0001\u0000\u0000P\r��\u0003\u0001\u0000\u0000s#\u0000\u0000\u0000\u0000\u0000\u0000\u0000\u0000\u0000\u0000\u0000\u0000\u0000\u0000\u0001\u0000\u0000\u0000-�\u000f\u0001\u0001\u0000\u0000\u000b�\u0003\u0000\u0000\u0000\u0000\u0000"
          ]
        }
      ]
    },
    {
      "cell_type": "code",
      "source": [
        "import numpy as np\n",
        "import matplotlib.pyplot as plt\n",
        "\n",
        "def visualize_bam_coverage(bam_file):\n",
        "    # Generate depth file\n",
        "    !samtools depth {bam_file} > coverage.txt\n",
        "\n",
        "    # Preview\n",
        "    !head coverage.txt\n",
        "\n",
        "    # Load as structured array (chrom, pos, depth)\n",
        "    coverage_data = np.genfromtxt('coverage.txt', dtype=None, encoding=None, delimiter='\\t')\n",
        "\n",
        "    # If empty, stop\n",
        "    if coverage_data.size == 0:\n",
        "        print(\"coverage.txt is empty. No reads found.\")\n",
        "        return\n",
        "\n",
        "    # Plot using field names\n",
        "    positions = coverage_data['f1']\n",
        "    depth = coverage_data['f2']\n",
        "\n",
        "    plt.figure(figsize=(15, 5))\n",
        "    plt.plot(positions, depth, label='Coverage', color='blue')\n",
        "    plt.title('Read Coverage Across Reference Genome')\n",
        "    plt.xlabel('Genomic Position')\n",
        "    plt.ylabel('Coverage Depth')\n",
        "    plt.legend()\n",
        "    plt.grid(True)\n",
        "    plt.show()\n",
        "\n",
        "# Call it on sorted BAM\n",
        "visualize_bam_coverage('aligned_reads_sorted.bam')"
      ],
      "metadata": {
        "colab": {
          "base_uri": "https://localhost:8080/",
          "height": 661
        },
        "id": "knEuPLI447Ja",
        "outputId": "3649a29f-e5c1-422d-9b5c-d73291107ef6"
      },
      "execution_count": null,
      "outputs": [
        {
          "output_type": "stream",
          "name": "stdout",
          "text": [
            "lcl|NC_045512.2_cds_YP_009724389.1_1\t1\t13\n",
            "lcl|NC_045512.2_cds_YP_009724389.1_1\t2\t13\n",
            "lcl|NC_045512.2_cds_YP_009724389.1_1\t3\t14\n",
            "lcl|NC_045512.2_cds_YP_009724389.1_1\t4\t14\n",
            "lcl|NC_045512.2_cds_YP_009724389.1_1\t5\t15\n",
            "lcl|NC_045512.2_cds_YP_009724389.1_1\t6\t16\n",
            "lcl|NC_045512.2_cds_YP_009724389.1_1\t7\t17\n",
            "lcl|NC_045512.2_cds_YP_009724389.1_1\t8\t17\n",
            "lcl|NC_045512.2_cds_YP_009724389.1_1\t9\t17\n",
            "lcl|NC_045512.2_cds_YP_009724389.1_1\t10\t19\n"
          ]
        },
        {
          "output_type": "display_data",
          "data": {
            "text/plain": [
              "<Figure size 1500x500 with 1 Axes>"
            ],
            "image/png": "[encoded data removed]"
          },
          "metadata": {}
        }
      ]
    },
    {
      "cell_type": "code",
      "source": [
        "!samtools faidx /content/GCF_009858895.2_ASM985889v3_cds_from_genomic.fna.gz"
      ],
      "metadata": {
        "colab": {
          "base_uri": "https://localhost:8080/"
        },
        "id": "d0YnghJY7woY",
        "outputId": "9a08bdcb-3c06-46fd-b719-11a5fb91efc7"
      },
      "execution_count": null,
      "outputs": [
        {
          "output_type": "stream",
          "name": "stdout",
          "text": [
            "[E::fai_build3_core] Cannot index files compressed with gzip, please use bgzip\n",
            "[faidx] Could not build fai index /content/GCF_009858895.2_ASM985889v3_cds_from_genomic.fna.gz.fai\n"
          ]
        }
      ]
    },
    {
      "cell_type": "code",
      "source": [
        "!samtools faidx /content/GCF_009858895.2_ASM985889v3_cds_from_genomic.fna"
      ],
      "metadata": {
        "id": "FPr-2_6Z8Jsw"
      },
      "execution_count": null,
      "outputs": []
    }
  ]
}